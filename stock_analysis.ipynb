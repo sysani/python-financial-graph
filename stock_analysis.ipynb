{
 "cells": [
  {
   "cell_type": "code",
   "execution_count": 1,
   "metadata": {},
   "outputs": [],
   "source": [
    "from pandas_datareader import data\n",
    "import datetime\n",
    "from bokeh.plotting import figure, show, output_file\n",
    "\n",
    "start=datetime.datetime(2020,6,1)\n",
    "end=datetime.datetime(2020,7,1)\n",
    "\n",
    "df=data.DataReader(name=\"BTC-CAD\",data_source=\"yahoo\",start=start,end=end)"
   ]
  },
  {
   "cell_type": "code",
   "execution_count": 2,
   "metadata": {},
   "outputs": [],
   "source": [
    "df[\"Status\"]=[1 if c > o else 0 for c, o in zip(df.Close, df.Open)]\n",
    "df[\"Average\"]=(df.Open+df.Close)/2\n",
    "df[\"Height\"]=abs(df.Close-df.Open)"
   ]
  },
  {
   "cell_type": "code",
   "execution_count": 3,
   "metadata": {},
   "outputs": [],
   "source": [
    "p=figure(x_axis_type='datetime', width=1000, height=300, sizing_mode=\"scale_width\")\n",
    "p.title.text=\"Candlestick Chart\"\n",
    "p.grid.grid_line_alpha=0.3\n",
    "\n",
    "hours_12=12*60*60*1000\n",
    "\n",
    "p.segment(df.index, df.High, df.index, df.Low, color=\"Black\")\n",
    "\n",
    "p.rect(df.index[df.Status==1], df.Average[df.Status==1], hours_12, df.Height[df.Status==1],\n",
    "       fill_color=\"mediumaquamarine\", line_color=\"black\")\n",
    "\n",
    "p.rect(df.index[df.Status==0], df.Average[df.Status==0], hours_12, df.Height[df.Status==0],\n",
    "       fill_color=\"lightcoral\", line_color=\"black\")\n",
    "\n",
    "output_file=(\"cs.html\")\n",
    "show(p)"
   ]
  },
  {
   "cell_type": "code",
   "execution_count": null,
   "metadata": {},
   "outputs": [],
   "source": []
  }
 ],
 "metadata": {
  "kernelspec": {
   "display_name": "Python 3",
   "language": "python",
   "name": "python3"
  },
  "language_info": {
   "codemirror_mode": {
    "name": "ipython",
    "version": 3
   },
   "file_extension": ".py",
   "mimetype": "text/x-python",
   "name": "python",
   "nbconvert_exporter": "python",
   "pygments_lexer": "ipython3",
   "version": "3.7.3"
  }
 },
 "nbformat": 4,
 "nbformat_minor": 2
}
